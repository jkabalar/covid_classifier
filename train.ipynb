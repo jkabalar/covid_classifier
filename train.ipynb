{
  "cells": [
    {
      "cell_type": "markdown",
      "source": [
        "# Covid X-Ray Image Classification"
      ],
      "metadata": {
        "nteract": {
          "transient": {
            "deleting": false
          }
        }
      }
    },
    {
      "cell_type": "markdown",
      "source": [
        "The dataset folder includes ground-truth images of each class (310 negative and 150 positive). \n",
        "\n",
        "The task is to provide an AI solution that can classify images as a positive or negative covid case."
      ],
      "metadata": {
        "nteract": {
          "transient": {
            "deleting": false
          }
        }
      }
    },
    {
      "cell_type": "code",
      "source": [
        "##Other\n",
        "import glob\n",
        "\n",
        "import matplotlib.pyplot as plt\n",
        "\n",
        "#Model\n",
        "import torch\n",
        "import torch.optim as optim\n",
        "import torch.nn as nn\n",
        "import torchvision.models as models\n",
        "\n",
        "##Data & Transforms\n",
        "import config\n",
        "from torch.utils.data import DataLoader\n",
        "from torch.utils.tensorboard import SummaryWriter\n",
        "\n",
        "from torch.optim import lr_scheduler\n",
        "\n",
        "from dataset import ImageFolder\n",
        "from train import train\n",
        "\n",
        "##Metrics\n",
        "from sklearn.metrics import f1_score"
      ],
      "outputs": [],
      "execution_count": 2,
      "metadata": {
        "gather": {
          "logged": 1647253268366
        }
      }
    },
    {
      "cell_type": "code",
      "source": [
        "# define paths\n",
        "import os\n",
        "cwd = os. getcwd()\n",
        "covid_path = cwd+'/dataset/covid_p'\n",
        "noncovid_path = cwd+'/dataset/covid_n'\n",
        "\n",
        "# Use glob to grab images from path .jpg or jpeg\n",
        "covid_files = glob.glob(covid_path + '/*')\n",
        "noncovid_files = glob.glob(noncovid_path + '/*')\n"
      ],
      "outputs": [],
      "execution_count": 3,
      "metadata": {
        "gather": {
          "logged": 1647253270506
        }
      }
    },
    {
      "cell_type": "markdown",
      "source": [
        "## How is the data distributed"
      ],
      "metadata": {
        "nteract": {
          "transient": {
            "deleting": false
          }
        }
      }
    },
    {
      "cell_type": "code",
      "source": [
        "print(len(covid_files), len(noncovid_files))\n",
        "\n",
        "# Pie chart where the slices will be ordered and plotted counter-clockwise:\n",
        "labels = 'Covid', 'Non-Covid'\n",
        "sizes = [len(covid_files), len(noncovid_files)]\n",
        "explode = (0.1, 0)\n",
        "\n",
        "fig1, ax1 = plt.subplots()\n",
        "ax1.pie(sizes, explode=explode, labels=labels, autopct='%1.1f%%',\n",
        "        shadow=True, startangle=90)\n",
        "ax1.axis('equal')  # Equal aspect ratio ensures that pie is drawn as a circle.\n",
        "\n",
        "plt.show()\n",
        "# 2nd observation - Different Image sizes\n"
      ],
      "outputs": [
        {
          "output_type": "stream",
          "name": "stdout",
          "text": "150 310\n"
        },
        {
          "output_type": "display_data",
          "data": {
            "text/plain": "<Figure size 432x288 with 1 Axes>",
            "image/png": "[encoded data removed]"
          },
          "metadata": {}
        }
      ],
      "execution_count": 4,
      "metadata": {
        "gather": {
          "logged": 1647253271832
        }
      }
    },
    {
      "cell_type": "markdown",
      "source": [
        "A look at the dataset"
      ],
      "metadata": {}
    },
    {
      "cell_type": "code",
      "source": [
        "#create train test split\n",
        "train_ds = ImageFolder(root_dir=\"dataset/\", transform = config.train_transforms)\n",
        "print(train_ds.class_names)\n",
        "class_weights=[1,2]\n",
        "sample_weights = [0] * len(train_ds)\n",
        "for idx, (data, label) in enumerate(train_ds):\n",
        "    class_weight = class_weights[label]\n",
        "    sample_weights[idx]=class_weights\n",
        "# Sampler not used for the moment\n",
        "#sampler = WeightedRandomSampler(sample_weights, num_samples=len(sample_weights), replacement=True)\n",
        "    \n",
        "train_size = int(0.8 * len(train_ds))\n",
        "test_size = len(train_ds) - train_size\n",
        "train_dataset, test_dataset = torch.utils.data.random_split(train_ds, [train_size, test_size])\n",
        "train_dataset.transform = config.train_transforms\n",
        "test_dataset.transform = config.val_transforms\n",
        "\n",
        "train_loader = DataLoader(train_dataset, batch_size=config.BATCH_SIZE, num_workers=config.NUM_WORKERS,pin_memory=config.PIN_MEMORY, shuffle=True)\n",
        "val_loader = DataLoader(test_dataset, batch_size=config.BATCH_SIZE, num_workers=config.NUM_WORKERS,pin_memory=config.PIN_MEMORY,shuffle=True)\n",
        "\n"
      ],
      "outputs": [
        {
          "output_type": "stream",
          "name": "stdout",
          "text": "['covid_n', 'covid_p']\n"
        }
      ],
      "execution_count": 5,
      "metadata": {
        "gather": {
          "logged": 1647253292775
        }
      }
    },
    {
      "cell_type": "markdown",
      "source": [
        "## A look at the dataset \n",
        "observation (some are grayscaled and some are RGB)"
      ],
      "metadata": {
        "nteract": {
          "transient": {
            "deleting": false
          }
        }
      }
    },
    {
      "cell_type": "code",
      "source": [
        "# Display image and label.\n",
        "val_features, val_labels = next(iter(val_loader))\n",
        "print(f\"Feature batch shape: {val_features.size()}\")\n",
        "print(f\"Labels batch shape: {val_labels.size()}\")\n",
        "\n",
        "nrows, ncols = 1, 4\n",
        "figsize = [10, 6]\n",
        "\n",
        "fig, ax = plt.subplots(nrows=nrows, ncols=ncols, figsize=figsize, facecolor=(1, 1, 1))\n",
        "for i, axi in enumerate(ax.flat):\n",
        "    img = val_features[i]\n",
        "    img = img.swapaxes(0, 1)\n",
        "    img = img.swapaxes(1, 2)\n",
        "    axi.imshow(img)\n",
        "    axi.set_axis_off()\n",
        "    label = val_labels[i]\n",
        "    axi.set_title(f\"Label: {label}\")"
      ],
      "outputs": [
        {
          "output_type": "stream",
          "name": "stdout",
          "text": "Feature batch shape: torch.Size([32, 3, 224, 224])\nLabels batch shape: torch.Size([32])\n"
        },
        {
          "output_type": "display_data",
          "data": {
            "text/plain": "<Figure size 720x432 with 4 Axes>",
            "image/png": "[encoded data removed]"
          },
          "metadata": {}
        }
      ],
      "execution_count": 6,
      "metadata": {
        "gather": {
          "logged": 1647253297499
        }
      }
    },
    {
      "cell_type": "markdown",
      "source": [
        "### Create Device (on GPU if available)"
      ],
      "metadata": {}
    },
    {
      "cell_type": "code",
      "source": [
        "device = torch.device(\"cuda\" if torch.cuda.is_available() else \"cpu\")\n"
      ],
      "outputs": [],
      "execution_count": 7,
      "metadata": {
        "gather": {
          "logged": 1647253298342
        }
      }
    },
    {
      "cell_type": "markdown",
      "source": [
        "## About the Model"
      ],
      "metadata": {
        "nteract": {
          "transient": {
            "deleting": false
          }
        }
      }
    },
    {
      "cell_type": "markdown",
      "source": [
        "Transfer Learning - Scenario with ConvNet as fixed feature extractor\n",
        "\n",
        "Here, we will freeze the weights for all of the network except that of the final fully connected layer. \n",
        "This last fully connected layer is replaced with a new one with random weights and only this layer is trained."
      ],
      "metadata": {
        "nteract": {
          "transient": {
            "deleting": false
          }
        }
      }
    },
    {
      "cell_type": "code",
      "source": [
        "def set_parameter_requires_grad(model, feature_extracting):\n",
        "    if feature_extracting:\n",
        "        for param in model.parameters():\n",
        "            param.requires_grad = False\n",
        "\n",
        "feature_extract=True\n",
        "use_pretrained=True\n",
        "model_ft = models.vgg11(pretrained=use_pretrained)\n",
        "set_parameter_requires_grad(model_ft, feature_extract)\n",
        "num_ftrs = model_ft.classifier[6].in_features\n",
        "model_ft.classifier[6] = nn.Linear(num_ftrs,2)\n",
        "input_size = 224"
      ],
      "outputs": [],
      "execution_count": 8,
      "metadata": {
        "gather": {
          "logged": 1647253299348
        },
        "jupyter": {
          "outputs_hidden": false,
          "source_hidden": false
        },
        "nteract": {
          "transient": {
            "deleting": false
          }
        }
      }
    },
    {
      "cell_type": "code",
      "source": [
        "# Send the model to GPU\n",
        "model_ft = model_ft.to(device)\n",
        "\n",
        "#  We will only update the parameter that we have just initialized, i.e. the parameters with requires_d is True.\n",
        "params_to_update = model_ft.parameters()\n",
        "print(\"Params to learn:\")\n",
        "if True:\n",
        "    params_to_update = []\n",
        "    for name,param in model_ft.named_parameters():\n",
        "        if param.requires_grad == True:\n",
        "            params_to_update.append(param)\n",
        "            print(\"\\t\",name)"
      ],
      "outputs": [
        {
          "output_type": "stream",
          "name": "stdout",
          "text": "Params to learn:\n\t classifier.6.weight\n\t classifier.6.bias\n"
        }
      ],
      "execution_count": 9,
      "metadata": {
        "gather": {
          "logged": 1647253300095
        },
        "jupyter": {
          "outputs_hidden": false,
          "source_hidden": false
        },
        "nteract": {
          "transient": {
            "deleting": false
          }
        }
      }
    },
    {
      "cell_type": "code",
      "source": [
        "print(model_ft)"
      ],
      "outputs": [
        {
          "output_type": "stream",
          "name": "stdout",
          "text": "VGG(\n  (features): Sequential(\n    (0): Conv2d(3, 64, kernel_size=(3, 3), stride=(1, 1), padding=(1, 1))\n    (1): ReLU(inplace=True)\n    (2): MaxPool2d(kernel_size=2, stride=2, padding=0, dilation=1, ceil_mode=False)\n    (3): Conv2d(64, 128, kernel_size=(3, 3), stride=(1, 1), padding=(1, 1))\n    (4): ReLU(inplace=True)\n    (5): MaxPool2d(kernel_size=2, stride=2, padding=0, dilation=1, ceil_mode=False)\n    (6): Conv2d(128, 256, kernel_size=(3, 3), stride=(1, 1), padding=(1, 1))\n    (7): ReLU(inplace=True)\n    (8): Conv2d(256, 256, kernel_size=(3, 3), stride=(1, 1), padding=(1, 1))\n    (9): ReLU(inplace=True)\n    (10): MaxPool2d(kernel_size=2, stride=2, padding=0, dilation=1, ceil_mode=False)\n    (11): Conv2d(256, 512, kernel_size=(3, 3), stride=(1, 1), padding=(1, 1))\n    (12): ReLU(inplace=True)\n    (13): Conv2d(512, 512, kernel_size=(3, 3), stride=(1, 1), padding=(1, 1))\n    (14): ReLU(inplace=True)\n    (15): MaxPool2d(kernel_size=2, stride=2, padding=0, dilation=1, ceil_mode=False)\n    (16): Conv2d(512, 512, kernel_size=(3, 3), stride=(1, 1), padding=(1, 1))\n    (17): ReLU(inplace=True)\n    (18): Conv2d(512, 512, kernel_size=(3, 3), stride=(1, 1), padding=(1, 1))\n    (19): ReLU(inplace=True)\n    (20): MaxPool2d(kernel_size=2, stride=2, padding=0, dilation=1, ceil_mode=False)\n  )\n  (avgpool): AdaptiveAvgPool2d(output_size=(7, 7))\n  (classifier): Sequential(\n    (0): Linear(in_features=25088, out_features=4096, bias=True)\n    (1): ReLU(inplace=True)\n    (2): Dropout(p=0.5, inplace=False)\n    (3): Linear(in_features=4096, out_features=4096, bias=True)\n    (4): ReLU(inplace=True)\n    (5): Dropout(p=0.5, inplace=False)\n    (6): Linear(in_features=4096, out_features=2, bias=True)\n  )\n)\n"
        }
      ],
      "execution_count": 10,
      "metadata": {
        "gather": {
          "logged": 1647253300783
        },
        "jupyter": {
          "outputs_hidden": false,
          "source_hidden": false
        },
        "nteract": {
          "transient": {
            "deleting": false
          }
        }
      }
    },
    {
      "cell_type": "code",
      "source": [
        "learning_rate_search = [0.001,0.005, 0.0001]\r\n",
        "\r\n",
        "batch_size_space= [8, 16, 32]\r\n",
        "searchspace = len(learning_rate_search)*len(batch_size_space)\r\n",
        "logs = {}\r\n",
        "counter = 0\r\n",
        "for i in range(len(learning_rate_search)):\r\n",
        "    for j in range(len(batch_size_space)):\r\n",
        "        logs[counter] = {\"learning_rate\":learning_rate_search[i], \"batch_size\": batch_size_space[j] }\r\n",
        "        counter+=1\r\n",
        "num_epochs = 5"
      ],
      "outputs": [],
      "execution_count": 11,
      "metadata": {
        "jupyter": {
          "source_hidden": false,
          "outputs_hidden": false
        },
        "nteract": {
          "transient": {
            "deleting": false
          }
        },
        "gather": {
          "logged": 1647253301589
        }
      }
    },
    {
      "cell_type": "code",
      "source": [
        "for key, n in logs.items():\n",
        "    learning_rate = n[\"learning_rate\"]\n",
        "    batch_size = n[\"batch_size\"]\n",
        "    train_loader = DataLoader(train_dataset, batch_size=batch_size, num_workers=config.NUM_WORKERS,pin_memory=config.PIN_MEMORY, shuffle=True)\n",
        "    val_loader = DataLoader(test_dataset, batch_size=batch_size, num_workers=config.NUM_WORKERS,pin_memory=config.PIN_MEMORY,shuffle=True)\n",
        "\n",
        "    mloss = nn.CrossEntropyLoss(weight= torch.tensor(class_weights).type(torch.FloatTensor).to(device))\n",
        "\n",
        "    dataloaders = {\"train\": train_loader, \"val\": val_loader}\n",
        "    # Optimizer\n",
        "\n",
        "    optimizer = optim.SGD(params_to_update, lr=learning_rate_search[0], momentum=0.9)\n",
        "    #optimizer = optim.Adam(params_to_update, lr=0.0001, weight_decay=0.1)\n",
        "\n",
        "    # Decay LR by a factor of 0.1 every 7 epochs\n",
        "    exp_lr_scheduler = lr_scheduler.StepLR(optimizer, step_size=3, gamma=0.1)\n",
        "    model_ft,val_acc_history,train_loss_history,  loss_history, f1_history = train(model_ft, mloss, optimizer, exp_lr_scheduler, dataloaders, device,  num_epochs=num_epochs)\n",
        "    n[\"best_f1_score\"] = max(f1_history)\n",
        "    n[\"train_loss_history\"] = train_loss_history\n",
        "    n[\"loss_history\"] = loss_history\n",
        "    n[\"f1_history\"] = f1_history\n",
        "    n[\"val_acc_history\"] = val_acc_history"
      ],
      "outputs": [
        {
          "output_type": "stream",
          "name": "stdout",
          "text": "Epoch 0/4\n----------\n"
        }
      ],
      "execution_count": 12,
      "metadata": {
        "gather": {
          "logged": 1647251924869
        }
      }
    },
    {
      "cell_type": "code",
      "source": [
        "for  n in logs.items():\r\n",
        "    print(n[\"best_f1_score\"])"
      ],
      "outputs": [],
      "execution_count": null,
      "metadata": {
        "jupyter": {
          "source_hidden": false,
          "outputs_hidden": false
        },
        "nteract": {
          "transient": {
            "deleting": false
          }
        }
      }
    },
    {
      "cell_type": "code",
      "source": [
        "import numpy as np\n",
        "ohist = []\n",
        "\n",
        "hist_acc = [h.cpu().numpy() for h in val_acc_history]\n",
        "hist_loss  = [h for h in loss_history]\n",
        "hist_f1 = [h for h in f1_history]\n",
        "hist_train_loss = [h for h in train_loss_history]\n",
        "\n",
        "plt.title(\"Validation Metrics vs. Number of Training Epochs\")\n",
        "plt.xlabel(\"Training Epochs\")\n",
        "plt.ylabel(\"Validation Metrics\")\n",
        "plt.plot(range(1,num_epochs+1),hist_acc,label=\"Accuracy\")\n",
        "plt.plot(range(1,num_epochs+1),hist_f1,label=\"F1 Score\")\n",
        "plt.ylim((0,1.))\n",
        "plt.xticks(np.arange(1, num_epochs+1, 1.0))\n",
        "plt.legend()\n",
        "plt.show()\n",
        "\n",
        "plt.title(\"Loss vs. Number of Training Epochs\")\n",
        "plt.xlabel(\"Training Epochs\")\n",
        "plt.ylabel(\"Loss\")\n",
        "plt.plot(range(1,num_epochs+1),hist_loss,label=\"Validation Loss\")\n",
        "plt.plot(range(1,num_epochs+1),hist_train_loss,label=\"Train Loss\")\n",
        "plt.ylim((0.2,1.))\n",
        "plt.xticks(np.arange(1, num_epochs+1, 1.0))\n",
        "plt.legend()\n",
        "plt.show()"
      ],
      "outputs": [],
      "execution_count": null,
      "metadata": {
        "gather": {
          "logged": 1647251965781
        },
        "jupyter": {
          "outputs_hidden": false,
          "source_hidden": false
        },
        "nteract": {
          "transient": {
            "deleting": false
          }
        }
      }
    },
    {
      "cell_type": "code",
      "source": [
        "\n",
        "class_names = [\"no covid\", \"covid\"]\n",
        "def visualize_model(model, num_images=6):\n",
        "    was_training = model.training\n",
        "    model.eval()\n",
        "    images_so_far = 0\n",
        "    fig = plt.figure()\n",
        "    figsize = [10, 6]\n",
        "\n",
        "    with torch.no_grad():\n",
        "        for i, (inputs, labels) in enumerate(dataloaders['val']):\n",
        "            inputs = inputs.to(device)\n",
        "            labels = labels.to(device)\n",
        "\n",
        "            outputs = model(inputs)\n",
        "            _, preds = torch.max(outputs, 1)\n",
        "\n",
        "            for j in range(inputs.size()[0]):\n",
        "                images_so_far += 1\n",
        "                ax = plt.subplot(num_images//2, 2, images_so_far, figsize=figsize, facecolor=(1, 1, 1))\n",
        "                ax.axis('off')\n",
        "                ax.set_title('predicted: {}'.format(class_names[preds[j]]))\n",
        "                imshow(inputs.cpu().data[j])\n",
        "\n",
        "                if images_so_far == num_images:\n",
        "                    model.train(mode=was_training)\n",
        "                    return\n",
        "        model.train(mode=was_training)"
      ],
      "outputs": [],
      "execution_count": null,
      "metadata": {
        "gather": {
          "logged": 1647251928224
        },
        "jupyter": {
          "outputs_hidden": false,
          "source_hidden": false
        },
        "nteract": {
          "transient": {
            "deleting": false
          }
        }
      }
    },
    {
      "cell_type": "code",
      "source": [
        "visualize_model(model_ft)\n",
        "\n",
        "plt.ioff()\n",
        "plt.show()"
      ],
      "outputs": [],
      "execution_count": null,
      "metadata": {
        "gather": {
          "logged": 1646694360118
        },
        "jupyter": {
          "outputs_hidden": false,
          "source_hidden": false
        },
        "nteract": {
          "transient": {
            "deleting": false
          }
        }
      }
    }
  ],
  "metadata": {
    "interpreter": {
      "hash": "54bdfc68efc71a915a2af57add61f4558e26829ec9fb6be9533a4a5473e0bb1a"
    },
    "kernel_info": {
      "name": "azureml_py38_pt_tf"
    },
    "kernelspec": {
      "name": "azureml_py38_pt_tf",
      "language": "python",
      "display_name": "Python 3.8 - Pytorch and Tensorflow"
    },
    "language_info": {
      "name": "python",
      "version": "3.8.1",
      "mimetype": "text/x-python",
      "codemirror_mode": {
        "name": "ipython",
        "version": 3
      },
      "pygments_lexer": "ipython3",
      "nbconvert_exporter": "python",
      "file_extension": ".py"
    },
    "microsoft": {
      "host": {
        "AzureML": {
          "notebookHasBeenCompleted": true
        }
      }
    },
    "nteract": {
      "version": "nteract-front-end@1.0.0"
    }
  },
  "nbformat": 4,
  "nbformat_minor": 4
}